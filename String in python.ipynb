{
 "cells": [
  {
   "cell_type": "code",
   "execution_count": 1,
   "id": "ea3e9a72",
   "metadata": {},
   "outputs": [
    {
     "data": {
      "text/plain": [
       "' st python tutorial'"
      ]
     },
     "execution_count": 1,
     "metadata": {},
     "output_type": "execute_result"
    }
   ],
   "source": [
    "\" st python tutorial\""
   ]
  },
  {
   "cell_type": "code",
   "execution_count": 5,
   "id": "2c8bde1c",
   "metadata": {},
   "outputs": [],
   "source": [
    "str1 = \" st python tutorial\" # here str1 is variable and \" st python tutorial\" is value "
   ]
  },
  {
   "cell_type": "code",
   "execution_count": 6,
   "id": "1894b88c",
   "metadata": {},
   "outputs": [
    {
     "data": {
      "text/plain": [
       "' st python tutorial'"
      ]
     },
     "execution_count": 6,
     "metadata": {},
     "output_type": "execute_result"
    }
   ],
   "source": [
    "str1"
   ]
  },
  {
   "cell_type": "code",
   "execution_count": 16,
   "id": "8ba503be",
   "metadata": {},
   "outputs": [
    {
     "name": "stdout",
     "output_type": "stream",
     "text": [
      " st python tutorial\n"
     ]
    }
   ],
   "source": [
    "print(str1)"
   ]
  },
  {
   "cell_type": "code",
   "execution_count": 18,
   "id": "205dfeef",
   "metadata": {},
   "outputs": [],
   "source": [
    "x =\"R\""
   ]
  },
  {
   "cell_type": "code",
   "execution_count": 21,
   "id": "de3a40be",
   "metadata": {},
   "outputs": [
    {
     "name": "stdout",
     "output_type": "stream",
     "text": [
      "st R tutorial\n"
     ]
    }
   ],
   "source": [
    "print(\"st {} tutorial\".format(x))"
   ]
  },
  {
   "cell_type": "code",
   "execution_count": 22,
   "id": "12f47abb",
   "metadata": {},
   "outputs": [],
   "source": [
    "x= \"sql\""
   ]
  },
  {
   "cell_type": "code",
   "execution_count": 26,
   "id": "e9f11746",
   "metadata": {},
   "outputs": [],
   "source": [
    "var1 =2+2+4"
   ]
  },
  {
   "cell_type": "code",
   "execution_count": 27,
   "id": "bff97bc3",
   "metadata": {},
   "outputs": [
    {
     "name": "stdout",
     "output_type": "stream",
     "text": [
      "st sql tutorial8\n"
     ]
    }
   ],
   "source": [
    "print(\"st {} tutorial{}\".format(x,var1))"
   ]
  },
  {
   "cell_type": "code",
   "execution_count": 17,
   "id": "5d7068a7",
   "metadata": {},
   "outputs": [],
   "source": [
    "\n",
    "# types of function in string\n",
    " #1 len\n",
    " #2 replace"
   ]
  },
  {
   "cell_type": "code",
   "execution_count": null,
   "id": "9abcd074",
   "metadata": {},
   "outputs": [],
   "source": []
  },
  {
   "cell_type": "code",
   "execution_count": 12,
   "id": "22dde8c1",
   "metadata": {},
   "outputs": [
    {
     "data": {
      "text/plain": [
       "19"
      ]
     },
     "execution_count": 12,
     "metadata": {},
     "output_type": "execute_result"
    }
   ],
   "source": [
    " # len\n",
    "   \n",
    "len(str1)\n"
   ]
  },
  {
   "cell_type": "code",
   "execution_count": 13,
   "id": "3c85830a",
   "metadata": {},
   "outputs": [
    {
     "data": {
      "text/plain": [
       "' st sql tutorial'"
      ]
     },
     "execution_count": 13,
     "metadata": {},
     "output_type": "execute_result"
    }
   ],
   "source": [
    "  # replace \n",
    "    \n",
    "str1.replace(\"python\",\"sql\")"
   ]
  },
  {
   "cell_type": "code",
   "execution_count": 28,
   "id": "e76093dc",
   "metadata": {},
   "outputs": [],
   "source": [
    " # index in string"
   ]
  },
  {
   "cell_type": "code",
   "execution_count": 29,
   "id": "a6b21c6f",
   "metadata": {},
   "outputs": [
    {
     "data": {
      "text/plain": [
       "'q'"
      ]
     },
     "execution_count": 29,
     "metadata": {},
     "output_type": "execute_result"
    }
   ],
   "source": [
    " x[1]"
   ]
  },
  {
   "cell_type": "code",
   "execution_count": 30,
   "id": "9ff9e255",
   "metadata": {},
   "outputs": [
    {
     "data": {
      "text/plain": [
       "'l'"
      ]
     },
     "execution_count": 30,
     "metadata": {},
     "output_type": "execute_result"
    }
   ],
   "source": [
    "x[2:5]"
   ]
  },
  {
   "cell_type": "code",
   "execution_count": 31,
   "id": "60a78604",
   "metadata": {},
   "outputs": [
    {
     "data": {
      "text/plain": [
       "''"
      ]
     },
     "execution_count": 31,
     "metadata": {},
     "output_type": "execute_result"
    }
   ],
   "source": [
    "x[4:6]"
   ]
  },
  {
   "cell_type": "code",
   "execution_count": 33,
   "id": "6c020450",
   "metadata": {},
   "outputs": [
    {
     "data": {
      "text/plain": [
       "'l'"
      ]
     },
     "execution_count": 33,
     "metadata": {},
     "output_type": "execute_result"
    }
   ],
   "source": [
    "x[-1]  # -1 means we get last character"
   ]
  },
  {
   "cell_type": "code",
   "execution_count": 35,
   "id": "40e7cd5c",
   "metadata": {},
   "outputs": [
    {
     "data": {
      "text/plain": [
       "'sql'"
      ]
     },
     "execution_count": 35,
     "metadata": {},
     "output_type": "execute_result"
    }
   ],
   "source": [
    "x[:5] # i want all char start of the string"
   ]
  },
  {
   "cell_type": "code",
   "execution_count": 37,
   "id": "eef637aa",
   "metadata": {},
   "outputs": [
    {
     "data": {
      "text/plain": [
       "''"
      ]
     },
     "execution_count": 37,
     "metadata": {},
     "output_type": "execute_result"
    }
   ],
   "source": [
    "x[5:]"
   ]
  },
  {
   "cell_type": "code",
   "execution_count": null,
   "id": "a6f8e481",
   "metadata": {},
   "outputs": [],
   "source": []
  }
 ],
 "metadata": {
  "kernelspec": {
   "display_name": "Python 3",
   "language": "python",
   "name": "python3"
  },
  "language_info": {
   "codemirror_mode": {
    "name": "ipython",
    "version": 3
   },
   "file_extension": ".py",
   "mimetype": "text/x-python",
   "name": "python",
   "nbconvert_exporter": "python",
   "pygments_lexer": "ipython3",
   "version": "3.8.8"
  }
 },
 "nbformat": 4,
 "nbformat_minor": 5
}
